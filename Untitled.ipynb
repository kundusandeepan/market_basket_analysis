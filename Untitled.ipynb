{
 "cells": [
  {
   "cell_type": "code",
   "execution_count": 1,
   "id": "6b12565c",
   "metadata": {},
   "outputs": [
    {
     "name": "stdout",
     "output_type": "stream",
     "text": [
      "Requirement already satisfied: pandas in c:\\python311\\lib\\site-packages (2.0.2)\n",
      "Requirement already satisfied: python-dateutil>=2.8.2 in c:\\python311\\lib\\site-packages (from pandas) (2.8.2)\n",
      "Requirement already satisfied: pytz>=2020.1 in c:\\python311\\lib\\site-packages (from pandas) (2023.3)\n",
      "Requirement already satisfied: tzdata>=2022.1 in c:\\python311\\lib\\site-packages (from pandas) (2023.3)\n",
      "Requirement already satisfied: numpy>=1.21.0 in c:\\python311\\lib\\site-packages (from pandas) (1.25.0)\n",
      "Requirement already satisfied: six>=1.5 in c:\\python311\\lib\\site-packages (from python-dateutil>=2.8.2->pandas) (1.16.0)\n",
      "Note: you may need to restart the kernel to use updated packages.\n"
     ]
    }
   ],
   "source": [
    "pip install pandas"
   ]
  },
  {
   "cell_type": "code",
   "execution_count": 2,
   "id": "d7b9dbca",
   "metadata": {},
   "outputs": [],
   "source": [
    "# Dependencies and Setup\n",
    "import pandas as pd"
   ]
  },
  {
   "cell_type": "code",
   "execution_count": 3,
   "id": "d79c4700",
   "metadata": {},
   "outputs": [
    {
     "name": "stderr",
     "output_type": "stream",
     "text": [
      "C:\\Users\\Sandeepan Kundu\\AppData\\Local\\Temp\\ipykernel_22732\\2237121939.py:2: DtypeWarning: Columns (0) have mixed types. Specify dtype option on import or set low_memory=False.\n",
      "  data_df = pd.read_csv(\"resources1\\storedata.csv\",sep=';')\n"
     ]
    }
   ],
   "source": [
    "# File to Load \n",
    "data_df = pd.read_csv(\"resources1\\storedata.csv\",sep=';')"
   ]
  },
  {
   "cell_type": "code",
   "execution_count": 4,
   "id": "1d816b6e",
   "metadata": {},
   "outputs": [
    {
     "data": {
      "text/html": [
       "<div>\n",
       "<style scoped>\n",
       "    .dataframe tbody tr th:only-of-type {\n",
       "        vertical-align: middle;\n",
       "    }\n",
       "\n",
       "    .dataframe tbody tr th {\n",
       "        vertical-align: top;\n",
       "    }\n",
       "\n",
       "    .dataframe thead th {\n",
       "        text-align: right;\n",
       "    }\n",
       "</style>\n",
       "<table border=\"1\" class=\"dataframe\">\n",
       "  <thead>\n",
       "    <tr style=\"text-align: right;\">\n",
       "      <th></th>\n",
       "      <th>BillNo</th>\n",
       "      <th>Itemname</th>\n",
       "      <th>Quantity</th>\n",
       "      <th>Date</th>\n",
       "      <th>Price</th>\n",
       "      <th>CustomerID</th>\n",
       "      <th>Country</th>\n",
       "    </tr>\n",
       "  </thead>\n",
       "  <tbody>\n",
       "    <tr>\n",
       "      <th>0</th>\n",
       "      <td>536365</td>\n",
       "      <td>WHITE HANGING HEART T-LIGHT HOLDER</td>\n",
       "      <td>6</td>\n",
       "      <td>01.12.2010 08:26</td>\n",
       "      <td>2,55</td>\n",
       "      <td>17850.0</td>\n",
       "      <td>United Kingdom</td>\n",
       "    </tr>\n",
       "    <tr>\n",
       "      <th>1</th>\n",
       "      <td>536365</td>\n",
       "      <td>WHITE METAL LANTERN</td>\n",
       "      <td>6</td>\n",
       "      <td>01.12.2010 08:26</td>\n",
       "      <td>3,39</td>\n",
       "      <td>17850.0</td>\n",
       "      <td>United Kingdom</td>\n",
       "    </tr>\n",
       "    <tr>\n",
       "      <th>2</th>\n",
       "      <td>536365</td>\n",
       "      <td>CREAM CUPID HEARTS COAT HANGER</td>\n",
       "      <td>8</td>\n",
       "      <td>01.12.2010 08:26</td>\n",
       "      <td>2,75</td>\n",
       "      <td>17850.0</td>\n",
       "      <td>United Kingdom</td>\n",
       "    </tr>\n",
       "    <tr>\n",
       "      <th>3</th>\n",
       "      <td>536365</td>\n",
       "      <td>KNITTED UNION FLAG HOT WATER BOTTLE</td>\n",
       "      <td>6</td>\n",
       "      <td>01.12.2010 08:26</td>\n",
       "      <td>3,39</td>\n",
       "      <td>17850.0</td>\n",
       "      <td>United Kingdom</td>\n",
       "    </tr>\n",
       "    <tr>\n",
       "      <th>4</th>\n",
       "      <td>536365</td>\n",
       "      <td>RED WOOLLY HOTTIE WHITE HEART.</td>\n",
       "      <td>6</td>\n",
       "      <td>01.12.2010 08:26</td>\n",
       "      <td>3,39</td>\n",
       "      <td>17850.0</td>\n",
       "      <td>United Kingdom</td>\n",
       "    </tr>\n",
       "    <tr>\n",
       "      <th>5</th>\n",
       "      <td>536365</td>\n",
       "      <td>SET 7 BABUSHKA NESTING BOXES</td>\n",
       "      <td>2</td>\n",
       "      <td>01.12.2010 08:26</td>\n",
       "      <td>7,65</td>\n",
       "      <td>17850.0</td>\n",
       "      <td>United Kingdom</td>\n",
       "    </tr>\n",
       "    <tr>\n",
       "      <th>6</th>\n",
       "      <td>536365</td>\n",
       "      <td>GLASS STAR FROSTED T-LIGHT HOLDER</td>\n",
       "      <td>6</td>\n",
       "      <td>01.12.2010 08:26</td>\n",
       "      <td>4,25</td>\n",
       "      <td>17850.0</td>\n",
       "      <td>United Kingdom</td>\n",
       "    </tr>\n",
       "    <tr>\n",
       "      <th>7</th>\n",
       "      <td>536366</td>\n",
       "      <td>HAND WARMER UNION JACK</td>\n",
       "      <td>6</td>\n",
       "      <td>01.12.2010 08:28</td>\n",
       "      <td>1,85</td>\n",
       "      <td>17850.0</td>\n",
       "      <td>United Kingdom</td>\n",
       "    </tr>\n",
       "    <tr>\n",
       "      <th>8</th>\n",
       "      <td>536366</td>\n",
       "      <td>HAND WARMER RED POLKA DOT</td>\n",
       "      <td>6</td>\n",
       "      <td>01.12.2010 08:28</td>\n",
       "      <td>1,85</td>\n",
       "      <td>17850.0</td>\n",
       "      <td>United Kingdom</td>\n",
       "    </tr>\n",
       "    <tr>\n",
       "      <th>9</th>\n",
       "      <td>536367</td>\n",
       "      <td>ASSORTED COLOUR BIRD ORNAMENT</td>\n",
       "      <td>32</td>\n",
       "      <td>01.12.2010 08:34</td>\n",
       "      <td>1,69</td>\n",
       "      <td>13047.0</td>\n",
       "      <td>United Kingdom</td>\n",
       "    </tr>\n",
       "  </tbody>\n",
       "</table>\n",
       "</div>"
      ],
      "text/plain": [
       "   BillNo                             Itemname  Quantity              Date  \\\n",
       "0  536365   WHITE HANGING HEART T-LIGHT HOLDER         6  01.12.2010 08:26   \n",
       "1  536365                  WHITE METAL LANTERN         6  01.12.2010 08:26   \n",
       "2  536365       CREAM CUPID HEARTS COAT HANGER         8  01.12.2010 08:26   \n",
       "3  536365  KNITTED UNION FLAG HOT WATER BOTTLE         6  01.12.2010 08:26   \n",
       "4  536365       RED WOOLLY HOTTIE WHITE HEART.         6  01.12.2010 08:26   \n",
       "5  536365         SET 7 BABUSHKA NESTING BOXES         2  01.12.2010 08:26   \n",
       "6  536365    GLASS STAR FROSTED T-LIGHT HOLDER         6  01.12.2010 08:26   \n",
       "7  536366               HAND WARMER UNION JACK         6  01.12.2010 08:28   \n",
       "8  536366            HAND WARMER RED POLKA DOT         6  01.12.2010 08:28   \n",
       "9  536367        ASSORTED COLOUR BIRD ORNAMENT        32  01.12.2010 08:34   \n",
       "\n",
       "  Price  CustomerID         Country  \n",
       "0  2,55     17850.0  United Kingdom  \n",
       "1  3,39     17850.0  United Kingdom  \n",
       "2  2,75     17850.0  United Kingdom  \n",
       "3  3,39     17850.0  United Kingdom  \n",
       "4  3,39     17850.0  United Kingdom  \n",
       "5  7,65     17850.0  United Kingdom  \n",
       "6  4,25     17850.0  United Kingdom  \n",
       "7  1,85     17850.0  United Kingdom  \n",
       "8  1,85     17850.0  United Kingdom  \n",
       "9  1,69     13047.0  United Kingdom  "
      ]
     },
     "execution_count": 4,
     "metadata": {},
     "output_type": "execute_result"
    }
   ],
   "source": [
    "#check dataframe\n",
    "data_df.head(10)"
   ]
  },
  {
   "cell_type": "code",
   "execution_count": 5,
   "id": "efb7ee5b",
   "metadata": {},
   "outputs": [
    {
     "name": "stdout",
     "output_type": "stream",
     "text": [
      "            Quantity     CustomerID\n",
      "count  522064.000000  388023.000000\n",
      "mean       10.090435   15316.931710\n",
      "std       161.110525    1721.846964\n",
      "min     -9600.000000   12346.000000\n",
      "25%         1.000000   13950.000000\n",
      "50%         3.000000   15265.000000\n",
      "75%        10.000000   16837.000000\n",
      "max     80995.000000   18287.000000\n"
     ]
    }
   ],
   "source": [
    "# View Summary statisctics\n",
    "print (data_df.describe())"
   ]
  },
  {
   "cell_type": "code",
   "execution_count": 6,
   "id": "7afa2dd5",
   "metadata": {},
   "outputs": [
    {
     "name": "stdout",
     "output_type": "stream",
     "text": [
      "Index(['BillNo', 'Itemname', 'Quantity', 'Date', 'Price', 'CustomerID',\n",
      "       'Country'],\n",
      "      dtype='object')\n"
     ]
    }
   ],
   "source": [
    "# List of column names\n",
    "print(data_df.columns)"
   ]
  },
  {
   "cell_type": "code",
   "execution_count": 7,
   "id": "14a75e9c",
   "metadata": {},
   "outputs": [
    {
     "name": "stdout",
     "output_type": "stream",
     "text": [
      "(522064, 7)\n"
     ]
    }
   ],
   "source": [
    "# To count total rows \n",
    "print(data_df.shape)"
   ]
  },
  {
   "cell_type": "code",
   "execution_count": 8,
   "id": "98c5b5ef",
   "metadata": {},
   "outputs": [
    {
     "name": "stdout",
     "output_type": "stream",
     "text": [
      "BillNo         object\n",
      "Itemname       object\n",
      "Quantity        int64\n",
      "Date           object\n",
      "Price          object\n",
      "CustomerID    float64\n",
      "Country        object\n",
      "dtype: object\n"
     ]
    }
   ],
   "source": [
    "# To find the types of data \n",
    "print (data_df.dtypes)"
   ]
  },
  {
   "cell_type": "code",
   "execution_count": 9,
   "id": "279cdc56",
   "metadata": {},
   "outputs": [
    {
     "name": "stdout",
     "output_type": "stream",
     "text": [
      "<class 'pandas.core.frame.DataFrame'>\n",
      "RangeIndex: 522064 entries, 0 to 522063\n",
      "Data columns (total 7 columns):\n",
      " #   Column      Non-Null Count   Dtype  \n",
      "---  ------      --------------   -----  \n",
      " 0   BillNo      522064 non-null  object \n",
      " 1   Itemname    520609 non-null  object \n",
      " 2   Quantity    522064 non-null  int64  \n",
      " 3   Date        522064 non-null  object \n",
      " 4   Price       522064 non-null  object \n",
      " 5   CustomerID  388023 non-null  float64\n",
      " 6   Country     522064 non-null  object \n",
      "dtypes: float64(1), int64(1), object(5)\n",
      "memory usage: 27.9+ MB\n",
      "None\n"
     ]
    }
   ],
   "source": [
    "# To find out the types of all columns in the dataframe\n",
    "print(data_df.info())"
   ]
  },
  {
   "cell_type": "code",
   "execution_count": 10,
   "id": "5005dc26",
   "metadata": {},
   "outputs": [
    {
     "name": "stdout",
     "output_type": "stream",
     "text": [
      "BillNo             0\n",
      "Itemname        1455\n",
      "Quantity           0\n",
      "Date               0\n",
      "Price              0\n",
      "CustomerID    134041\n",
      "Country            0\n",
      "dtype: int64\n"
     ]
    }
   ],
   "source": [
    "# To count missing values in each column\n",
    "print(data_df.isnull().sum()) "
   ]
  },
  {
   "cell_type": "code",
   "execution_count": 11,
   "id": "8cd42b32",
   "metadata": {},
   "outputs": [],
   "source": [
    "# To drop missing values \n",
    "data_df=data_df.drop_duplicates()"
   ]
  },
  {
   "cell_type": "code",
   "execution_count": 12,
   "id": "077c852f",
   "metadata": {},
   "outputs": [
    {
     "name": "stdout",
     "output_type": "stream",
     "text": [
      "BillNo             0\n",
      "Itemname        1455\n",
      "Quantity           0\n",
      "Date               0\n",
      "Price              0\n",
      "CustomerID    133967\n",
      "Country            0\n",
      "dtype: int64\n"
     ]
    }
   ],
   "source": [
    "# To count missing values in each column\n",
    "print(data_df.isnull().sum()) "
   ]
  },
  {
   "cell_type": "code",
   "execution_count": 13,
   "id": "3dcb300f",
   "metadata": {},
   "outputs": [],
   "source": [
    "# To Drop data with negative or zero quantity\n",
    "data_df=data_df.loc[data_df['Quantity']>0]"
   ]
  },
  {
   "cell_type": "code",
   "execution_count": 14,
   "id": "38d88349",
   "metadata": {},
   "outputs": [
    {
     "name": "stdout",
     "output_type": "stream",
     "text": [
      "BillNo             0\n",
      "Itemname         592\n",
      "Quantity           0\n",
      "Date               0\n",
      "Price              0\n",
      "CustomerID    132631\n",
      "Country            0\n",
      "dtype: int64\n"
     ]
    }
   ],
   "source": [
    "# To count missing values in each column\n",
    "print(data_df.isnull().sum()) "
   ]
  },
  {
   "cell_type": "code",
   "execution_count": 15,
   "id": "36fc0de1",
   "metadata": {},
   "outputs": [],
   "source": [
    "# to Drop data with zero price\n",
    "data_df=data_df.loc[data_df['Price']>'0']"
   ]
  },
  {
   "cell_type": "code",
   "execution_count": 16,
   "id": "28de94a7",
   "metadata": {},
   "outputs": [
    {
     "name": "stdout",
     "output_type": "stream",
     "text": [
      "BillNo             0\n",
      "Itemname           0\n",
      "Quantity           0\n",
      "Date               0\n",
      "Price              0\n",
      "CustomerID    131497\n",
      "Country            0\n",
      "dtype: int64\n"
     ]
    }
   ],
   "source": [
    "# To count missing values in each column\n",
    "print(data_df.isnull().sum()) "
   ]
  },
  {
   "cell_type": "code",
   "execution_count": 17,
   "id": "6a5f7976",
   "metadata": {},
   "outputs": [],
   "source": [
    "#Filling null data\n",
    "data_df=data_df.fillna('-')"
   ]
  },
  {
   "cell_type": "code",
   "execution_count": 18,
   "id": "035ac12d",
   "metadata": {},
   "outputs": [
    {
     "name": "stdout",
     "output_type": "stream",
     "text": [
      "BillNo        0\n",
      "Itemname      0\n",
      "Quantity      0\n",
      "Date          0\n",
      "Price         0\n",
      "CustomerID    0\n",
      "Country       0\n",
      "dtype: int64\n"
     ]
    }
   ],
   "source": [
    "# To count missing values in each column\n",
    "print(data_df.isnull().sum()) "
   ]
  },
  {
   "cell_type": "code",
   "execution_count": 19,
   "id": "2503e25a",
   "metadata": {},
   "outputs": [
    {
     "data": {
      "text/html": [
       "<div>\n",
       "<style scoped>\n",
       "    .dataframe tbody tr th:only-of-type {\n",
       "        vertical-align: middle;\n",
       "    }\n",
       "\n",
       "    .dataframe tbody tr th {\n",
       "        vertical-align: top;\n",
       "    }\n",
       "\n",
       "    .dataframe thead th {\n",
       "        text-align: right;\n",
       "    }\n",
       "</style>\n",
       "<table border=\"1\" class=\"dataframe\">\n",
       "  <thead>\n",
       "    <tr style=\"text-align: right;\">\n",
       "      <th></th>\n",
       "      <th>BillNo</th>\n",
       "      <th>Itemname</th>\n",
       "      <th>Quantity</th>\n",
       "      <th>Date</th>\n",
       "      <th>Price</th>\n",
       "      <th>CustomerID</th>\n",
       "      <th>Country</th>\n",
       "      <th>Year</th>\n",
       "      <th>Month</th>\n",
       "    </tr>\n",
       "  </thead>\n",
       "  <tbody>\n",
       "    <tr>\n",
       "      <th>0</th>\n",
       "      <td>536365</td>\n",
       "      <td>WHITE HANGING HEART T-LIGHT HOLDER</td>\n",
       "      <td>6</td>\n",
       "      <td>01.12.2010 08:26</td>\n",
       "      <td>2,55</td>\n",
       "      <td>17850.0</td>\n",
       "      <td>United Kingdom</td>\n",
       "      <td>2010</td>\n",
       "      <td>12</td>\n",
       "    </tr>\n",
       "    <tr>\n",
       "      <th>1</th>\n",
       "      <td>536365</td>\n",
       "      <td>WHITE METAL LANTERN</td>\n",
       "      <td>6</td>\n",
       "      <td>01.12.2010 08:26</td>\n",
       "      <td>3,39</td>\n",
       "      <td>17850.0</td>\n",
       "      <td>United Kingdom</td>\n",
       "      <td>2010</td>\n",
       "      <td>12</td>\n",
       "    </tr>\n",
       "    <tr>\n",
       "      <th>2</th>\n",
       "      <td>536365</td>\n",
       "      <td>CREAM CUPID HEARTS COAT HANGER</td>\n",
       "      <td>8</td>\n",
       "      <td>01.12.2010 08:26</td>\n",
       "      <td>2,75</td>\n",
       "      <td>17850.0</td>\n",
       "      <td>United Kingdom</td>\n",
       "      <td>2010</td>\n",
       "      <td>12</td>\n",
       "    </tr>\n",
       "    <tr>\n",
       "      <th>3</th>\n",
       "      <td>536365</td>\n",
       "      <td>KNITTED UNION FLAG HOT WATER BOTTLE</td>\n",
       "      <td>6</td>\n",
       "      <td>01.12.2010 08:26</td>\n",
       "      <td>3,39</td>\n",
       "      <td>17850.0</td>\n",
       "      <td>United Kingdom</td>\n",
       "      <td>2010</td>\n",
       "      <td>12</td>\n",
       "    </tr>\n",
       "    <tr>\n",
       "      <th>4</th>\n",
       "      <td>536365</td>\n",
       "      <td>RED WOOLLY HOTTIE WHITE HEART.</td>\n",
       "      <td>6</td>\n",
       "      <td>01.12.2010 08:26</td>\n",
       "      <td>3,39</td>\n",
       "      <td>17850.0</td>\n",
       "      <td>United Kingdom</td>\n",
       "      <td>2010</td>\n",
       "      <td>12</td>\n",
       "    </tr>\n",
       "  </tbody>\n",
       "</table>\n",
       "</div>"
      ],
      "text/plain": [
       "   BillNo                             Itemname  Quantity              Date  \\\n",
       "0  536365   WHITE HANGING HEART T-LIGHT HOLDER         6  01.12.2010 08:26   \n",
       "1  536365                  WHITE METAL LANTERN         6  01.12.2010 08:26   \n",
       "2  536365       CREAM CUPID HEARTS COAT HANGER         8  01.12.2010 08:26   \n",
       "3  536365  KNITTED UNION FLAG HOT WATER BOTTLE         6  01.12.2010 08:26   \n",
       "4  536365       RED WOOLLY HOTTIE WHITE HEART.         6  01.12.2010 08:26   \n",
       "\n",
       "  Price CustomerID         Country  Year Month  \n",
       "0  2,55    17850.0  United Kingdom  2010    12  \n",
       "1  3,39    17850.0  United Kingdom  2010    12  \n",
       "2  2,75    17850.0  United Kingdom  2010    12  \n",
       "3  3,39    17850.0  United Kingdom  2010    12  \n",
       "4  3,39    17850.0  United Kingdom  2010    12  "
      ]
     },
     "execution_count": 19,
     "metadata": {},
     "output_type": "execute_result"
    }
   ],
   "source": [
    "# Splitting data into year and month\n",
    "data_df['Year']=data_df['Date'].apply(lambda x:x.split('.')[2])\n",
    "data_df['Year']=data_df['Year'].apply(lambda x:x.split(' ')[0])\n",
    "data_df['Month']=data_df['Date'].apply(lambda x:x.split('.')[1])\n",
    "data_df.head()\n"
   ]
  },
  {
   "cell_type": "code",
   "execution_count": 20,
   "id": "6f13f1d8",
   "metadata": {},
   "outputs": [
    {
     "data": {
      "text/html": [
       "<div>\n",
       "<style scoped>\n",
       "    .dataframe tbody tr th:only-of-type {\n",
       "        vertical-align: middle;\n",
       "    }\n",
       "\n",
       "    .dataframe tbody tr th {\n",
       "        vertical-align: top;\n",
       "    }\n",
       "\n",
       "    .dataframe thead th {\n",
       "        text-align: right;\n",
       "    }\n",
       "</style>\n",
       "<table border=\"1\" class=\"dataframe\">\n",
       "  <thead>\n",
       "    <tr style=\"text-align: right;\">\n",
       "      <th></th>\n",
       "      <th>BillNo</th>\n",
       "      <th>Itemname</th>\n",
       "      <th>Quantity</th>\n",
       "      <th>Date</th>\n",
       "      <th>Price</th>\n",
       "      <th>CustomerID</th>\n",
       "      <th>Country</th>\n",
       "      <th>Year</th>\n",
       "      <th>Month</th>\n",
       "      <th>Total_price</th>\n",
       "    </tr>\n",
       "  </thead>\n",
       "  <tbody>\n",
       "    <tr>\n",
       "      <th>0</th>\n",
       "      <td>536365</td>\n",
       "      <td>WHITE HANGING HEART T-LIGHT HOLDER</td>\n",
       "      <td>6</td>\n",
       "      <td>01.12.2010 08:26</td>\n",
       "      <td>2.55</td>\n",
       "      <td>17850.0</td>\n",
       "      <td>United Kingdom</td>\n",
       "      <td>2010</td>\n",
       "      <td>12</td>\n",
       "      <td>15.30</td>\n",
       "    </tr>\n",
       "    <tr>\n",
       "      <th>1</th>\n",
       "      <td>536365</td>\n",
       "      <td>WHITE METAL LANTERN</td>\n",
       "      <td>6</td>\n",
       "      <td>01.12.2010 08:26</td>\n",
       "      <td>3.39</td>\n",
       "      <td>17850.0</td>\n",
       "      <td>United Kingdom</td>\n",
       "      <td>2010</td>\n",
       "      <td>12</td>\n",
       "      <td>20.34</td>\n",
       "    </tr>\n",
       "    <tr>\n",
       "      <th>2</th>\n",
       "      <td>536365</td>\n",
       "      <td>CREAM CUPID HEARTS COAT HANGER</td>\n",
       "      <td>8</td>\n",
       "      <td>01.12.2010 08:26</td>\n",
       "      <td>2.75</td>\n",
       "      <td>17850.0</td>\n",
       "      <td>United Kingdom</td>\n",
       "      <td>2010</td>\n",
       "      <td>12</td>\n",
       "      <td>22.00</td>\n",
       "    </tr>\n",
       "    <tr>\n",
       "      <th>3</th>\n",
       "      <td>536365</td>\n",
       "      <td>KNITTED UNION FLAG HOT WATER BOTTLE</td>\n",
       "      <td>6</td>\n",
       "      <td>01.12.2010 08:26</td>\n",
       "      <td>3.39</td>\n",
       "      <td>17850.0</td>\n",
       "      <td>United Kingdom</td>\n",
       "      <td>2010</td>\n",
       "      <td>12</td>\n",
       "      <td>20.34</td>\n",
       "    </tr>\n",
       "    <tr>\n",
       "      <th>4</th>\n",
       "      <td>536365</td>\n",
       "      <td>RED WOOLLY HOTTIE WHITE HEART.</td>\n",
       "      <td>6</td>\n",
       "      <td>01.12.2010 08:26</td>\n",
       "      <td>3.39</td>\n",
       "      <td>17850.0</td>\n",
       "      <td>United Kingdom</td>\n",
       "      <td>2010</td>\n",
       "      <td>12</td>\n",
       "      <td>20.34</td>\n",
       "    </tr>\n",
       "  </tbody>\n",
       "</table>\n",
       "</div>"
      ],
      "text/plain": [
       "   BillNo                             Itemname  Quantity              Date  \\\n",
       "0  536365   WHITE HANGING HEART T-LIGHT HOLDER         6  01.12.2010 08:26   \n",
       "1  536365                  WHITE METAL LANTERN         6  01.12.2010 08:26   \n",
       "2  536365       CREAM CUPID HEARTS COAT HANGER         8  01.12.2010 08:26   \n",
       "3  536365  KNITTED UNION FLAG HOT WATER BOTTLE         6  01.12.2010 08:26   \n",
       "4  536365       RED WOOLLY HOTTIE WHITE HEART.         6  01.12.2010 08:26   \n",
       "\n",
       "   Price CustomerID         Country  Year Month  Total_price  \n",
       "0   2.55    17850.0  United Kingdom  2010    12        15.30  \n",
       "1   3.39    17850.0  United Kingdom  2010    12        20.34  \n",
       "2   2.75    17850.0  United Kingdom  2010    12        22.00  \n",
       "3   3.39    17850.0  United Kingdom  2010    12        20.34  \n",
       "4   3.39    17850.0  United Kingdom  2010    12        20.34  "
      ]
     },
     "execution_count": 20,
     "metadata": {},
     "output_type": "execute_result"
    }
   ],
   "source": [
    "# Creating a 'Total price' column\n",
    "data_df['Price']=data_df['Price'].str.replace(',','.').astype('float64')\n",
    "data_df['Total_price']=data_df.Quantity*data_df.Price\n",
    "data_df.head()"
   ]
  },
  {
   "cell_type": "code",
   "execution_count": 21,
   "id": "27357534",
   "metadata": {},
   "outputs": [
    {
     "data": {
      "text/plain": [
       "Year  Month\n",
       "2010  12        807215.780\n",
       "2011  01        665727.010\n",
       "      02        503060.520\n",
       "      03        679471.260\n",
       "      04        527214.751\n",
       "      05        749008.990\n",
       "      06        727311.200\n",
       "      07        669497.001\n",
       "      08        732944.090\n",
       "      09       1006294.612\n",
       "      10       1115378.190\n",
       "      11       1465421.650\n",
       "      12        628846.920\n",
       "Name: Total_price, dtype: float64"
      ]
     },
     "execution_count": 21,
     "metadata": {},
     "output_type": "execute_result"
    }
   ],
   "source": [
    "# Checking the total price in each month\n",
    "data_df.groupby(['Year','Month'])['Total_price'].sum()"
   ]
  },
  {
   "cell_type": "code",
   "execution_count": 22,
   "id": "5d707628",
   "metadata": {},
   "outputs": [],
   "source": [
    "# droping 2010 data\n",
    "data_df=data_df.loc[data_df['Year']!='2010']"
   ]
  },
  {
   "cell_type": "code",
   "execution_count": 23,
   "id": "ce85fe12",
   "metadata": {},
   "outputs": [
    {
     "data": {
      "text/plain": [
       "Year  Month\n",
       "2011  01        665727.010\n",
       "      02        503060.520\n",
       "      03        679471.260\n",
       "      04        527214.751\n",
       "      05        749008.990\n",
       "      06        727311.200\n",
       "      07        669497.001\n",
       "      08        732944.090\n",
       "      09       1006294.612\n",
       "      10       1115378.190\n",
       "      11       1465421.650\n",
       "      12        628846.920\n",
       "Name: Total_price, dtype: float64"
      ]
     },
     "execution_count": 23,
     "metadata": {},
     "output_type": "execute_result"
    }
   ],
   "source": [
    "# Checking the total price in each month\n",
    "data_df.groupby(['Year','Month'])['Total_price'].sum()"
   ]
  },
  {
   "cell_type": "code",
   "execution_count": 24,
   "id": "ac7ffce5",
   "metadata": {},
   "outputs": [],
   "source": [
    "# Save DataFrame to a new CSV file\n",
    "data_df.to_csv('Resources1\\cleaneddata.csv', index=False) \n"
   ]
  },
  {
   "cell_type": "code",
   "execution_count": 25,
   "id": "e0e34d9b",
   "metadata": {},
   "outputs": [
    {
     "name": "stdout",
     "output_type": "stream",
     "text": [
      "Requirement already satisfied: matplotlib in c:\\python311\\lib\\site-packages (3.7.1)\n",
      "Requirement already satisfied: contourpy>=1.0.1 in c:\\python311\\lib\\site-packages (from matplotlib) (1.1.0)\n",
      "Requirement already satisfied: cycler>=0.10 in c:\\python311\\lib\\site-packages (from matplotlib) (0.11.0)\n",
      "Requirement already satisfied: fonttools>=4.22.0 in c:\\python311\\lib\\site-packages (from matplotlib) (4.40.0)\n",
      "Requirement already satisfied: kiwisolver>=1.0.1 in c:\\python311\\lib\\site-packages (from matplotlib) (1.4.4)\n",
      "Requirement already satisfied: numpy>=1.20 in c:\\python311\\lib\\site-packages (from matplotlib) (1.25.0)\n",
      "Requirement already satisfied: packaging>=20.0 in c:\\python311\\lib\\site-packages (from matplotlib) (23.1)\n",
      "Requirement already satisfied: pillow>=6.2.0 in c:\\python311\\lib\\site-packages (from matplotlib) (9.5.0)\n",
      "Requirement already satisfied: pyparsing>=2.3.1 in c:\\python311\\lib\\site-packages (from matplotlib) (3.1.0)\n",
      "Requirement already satisfied: python-dateutil>=2.7 in c:\\python311\\lib\\site-packages (from matplotlib) (2.8.2)\n",
      "Requirement already satisfied: six>=1.5 in c:\\python311\\lib\\site-packages (from python-dateutil>=2.7->matplotlib) (1.16.0)\n",
      "Note: you may need to restart the kernel to use updated packages.\n"
     ]
    }
   ],
   "source": [
    "pip install matplotlib"
   ]
  },
  {
   "cell_type": "code",
   "execution_count": 26,
   "id": "f6d87a07",
   "metadata": {},
   "outputs": [
    {
     "name": "stderr",
     "output_type": "stream",
     "text": [
      "C:\\Users\\Sandeepan Kundu\\AppData\\Local\\Temp\\ipykernel_22732\\3089816536.py:2: DtypeWarning: Columns (0) have mixed types. Specify dtype option on import or set low_memory=False.\n",
      "  data_df = pd.read_csv(\"Resources1\\cleaneddata.csv\")\n"
     ]
    },
    {
     "data": {
      "text/html": [
       "<div>\n",
       "<style scoped>\n",
       "    .dataframe tbody tr th:only-of-type {\n",
       "        vertical-align: middle;\n",
       "    }\n",
       "\n",
       "    .dataframe tbody tr th {\n",
       "        vertical-align: top;\n",
       "    }\n",
       "\n",
       "    .dataframe thead th {\n",
       "        text-align: right;\n",
       "    }\n",
       "</style>\n",
       "<table border=\"1\" class=\"dataframe\">\n",
       "  <thead>\n",
       "    <tr style=\"text-align: right;\">\n",
       "      <th></th>\n",
       "      <th>BillNo</th>\n",
       "      <th>Itemname</th>\n",
       "      <th>Quantity</th>\n",
       "      <th>Date</th>\n",
       "      <th>Price</th>\n",
       "      <th>CustomerID</th>\n",
       "      <th>Country</th>\n",
       "      <th>Year</th>\n",
       "      <th>Month</th>\n",
       "      <th>Total_price</th>\n",
       "    </tr>\n",
       "  </thead>\n",
       "  <tbody>\n",
       "    <tr>\n",
       "      <th>0</th>\n",
       "      <td>539993</td>\n",
       "      <td>JUMBO BAG PINK POLKADOT</td>\n",
       "      <td>10</td>\n",
       "      <td>04.01.2011 10:00</td>\n",
       "      <td>1.95</td>\n",
       "      <td>13313.0</td>\n",
       "      <td>United Kingdom</td>\n",
       "      <td>2011</td>\n",
       "      <td>1</td>\n",
       "      <td>19.5</td>\n",
       "    </tr>\n",
       "    <tr>\n",
       "      <th>1</th>\n",
       "      <td>539993</td>\n",
       "      <td>BLUE POLKADOT WRAP</td>\n",
       "      <td>25</td>\n",
       "      <td>04.01.2011 10:00</td>\n",
       "      <td>0.42</td>\n",
       "      <td>13313.0</td>\n",
       "      <td>United Kingdom</td>\n",
       "      <td>2011</td>\n",
       "      <td>1</td>\n",
       "      <td>10.5</td>\n",
       "    </tr>\n",
       "    <tr>\n",
       "      <th>2</th>\n",
       "      <td>539993</td>\n",
       "      <td>RED RETROSPOT WRAP</td>\n",
       "      <td>25</td>\n",
       "      <td>04.01.2011 10:00</td>\n",
       "      <td>0.42</td>\n",
       "      <td>13313.0</td>\n",
       "      <td>United Kingdom</td>\n",
       "      <td>2011</td>\n",
       "      <td>1</td>\n",
       "      <td>10.5</td>\n",
       "    </tr>\n",
       "    <tr>\n",
       "      <th>3</th>\n",
       "      <td>539993</td>\n",
       "      <td>RECYCLING BAG RETROSPOT</td>\n",
       "      <td>5</td>\n",
       "      <td>04.01.2011 10:00</td>\n",
       "      <td>2.10</td>\n",
       "      <td>13313.0</td>\n",
       "      <td>United Kingdom</td>\n",
       "      <td>2011</td>\n",
       "      <td>1</td>\n",
       "      <td>10.5</td>\n",
       "    </tr>\n",
       "    <tr>\n",
       "      <th>4</th>\n",
       "      <td>539993</td>\n",
       "      <td>RED RETROSPOT SHOPPER BAG</td>\n",
       "      <td>10</td>\n",
       "      <td>04.01.2011 10:00</td>\n",
       "      <td>1.25</td>\n",
       "      <td>13313.0</td>\n",
       "      <td>United Kingdom</td>\n",
       "      <td>2011</td>\n",
       "      <td>1</td>\n",
       "      <td>12.5</td>\n",
       "    </tr>\n",
       "    <tr>\n",
       "      <th>5</th>\n",
       "      <td>539993</td>\n",
       "      <td>JUMBO BAG RED RETROSPOT</td>\n",
       "      <td>10</td>\n",
       "      <td>04.01.2011 10:00</td>\n",
       "      <td>1.95</td>\n",
       "      <td>13313.0</td>\n",
       "      <td>United Kingdom</td>\n",
       "      <td>2011</td>\n",
       "      <td>1</td>\n",
       "      <td>19.5</td>\n",
       "    </tr>\n",
       "    <tr>\n",
       "      <th>6</th>\n",
       "      <td>539993</td>\n",
       "      <td>RED RETROSPOT CHILDRENS UMBRELLA</td>\n",
       "      <td>6</td>\n",
       "      <td>04.01.2011 10:00</td>\n",
       "      <td>3.25</td>\n",
       "      <td>13313.0</td>\n",
       "      <td>United Kingdom</td>\n",
       "      <td>2011</td>\n",
       "      <td>1</td>\n",
       "      <td>19.5</td>\n",
       "    </tr>\n",
       "    <tr>\n",
       "      <th>7</th>\n",
       "      <td>539993</td>\n",
       "      <td>JAM MAKING SET PRINTED</td>\n",
       "      <td>12</td>\n",
       "      <td>04.01.2011 10:00</td>\n",
       "      <td>1.45</td>\n",
       "      <td>13313.0</td>\n",
       "      <td>United Kingdom</td>\n",
       "      <td>2011</td>\n",
       "      <td>1</td>\n",
       "      <td>17.4</td>\n",
       "    </tr>\n",
       "    <tr>\n",
       "      <th>8</th>\n",
       "      <td>539993</td>\n",
       "      <td>RECIPE BOX RETROSPOT</td>\n",
       "      <td>6</td>\n",
       "      <td>04.01.2011 10:00</td>\n",
       "      <td>2.95</td>\n",
       "      <td>13313.0</td>\n",
       "      <td>United Kingdom</td>\n",
       "      <td>2011</td>\n",
       "      <td>1</td>\n",
       "      <td>17.7</td>\n",
       "    </tr>\n",
       "    <tr>\n",
       "      <th>9</th>\n",
       "      <td>539993</td>\n",
       "      <td>CHILDRENS APRON APPLES DESIGN</td>\n",
       "      <td>8</td>\n",
       "      <td>04.01.2011 10:00</td>\n",
       "      <td>1.95</td>\n",
       "      <td>13313.0</td>\n",
       "      <td>United Kingdom</td>\n",
       "      <td>2011</td>\n",
       "      <td>1</td>\n",
       "      <td>15.6</td>\n",
       "    </tr>\n",
       "  </tbody>\n",
       "</table>\n",
       "</div>"
      ],
      "text/plain": [
       "   BillNo                          Itemname  Quantity              Date  \\\n",
       "0  539993           JUMBO BAG PINK POLKADOT        10  04.01.2011 10:00   \n",
       "1  539993                BLUE POLKADOT WRAP        25  04.01.2011 10:00   \n",
       "2  539993                RED RETROSPOT WRAP        25  04.01.2011 10:00   \n",
       "3  539993           RECYCLING BAG RETROSPOT         5  04.01.2011 10:00   \n",
       "4  539993         RED RETROSPOT SHOPPER BAG        10  04.01.2011 10:00   \n",
       "5  539993           JUMBO BAG RED RETROSPOT        10  04.01.2011 10:00   \n",
       "6  539993  RED RETROSPOT CHILDRENS UMBRELLA         6  04.01.2011 10:00   \n",
       "7  539993            JAM MAKING SET PRINTED        12  04.01.2011 10:00   \n",
       "8  539993              RECIPE BOX RETROSPOT         6  04.01.2011 10:00   \n",
       "9  539993     CHILDRENS APRON APPLES DESIGN         8  04.01.2011 10:00   \n",
       "\n",
       "   Price CustomerID         Country  Year  Month  Total_price  \n",
       "0   1.95    13313.0  United Kingdom  2011      1         19.5  \n",
       "1   0.42    13313.0  United Kingdom  2011      1         10.5  \n",
       "2   0.42    13313.0  United Kingdom  2011      1         10.5  \n",
       "3   2.10    13313.0  United Kingdom  2011      1         10.5  \n",
       "4   1.25    13313.0  United Kingdom  2011      1         12.5  \n",
       "5   1.95    13313.0  United Kingdom  2011      1         19.5  \n",
       "6   3.25    13313.0  United Kingdom  2011      1         19.5  \n",
       "7   1.45    13313.0  United Kingdom  2011      1         17.4  \n",
       "8   2.95    13313.0  United Kingdom  2011      1         17.7  \n",
       "9   1.95    13313.0  United Kingdom  2011      1         15.6  "
      ]
     },
     "execution_count": 26,
     "metadata": {},
     "output_type": "execute_result"
    }
   ],
   "source": [
    "# File to Load \n",
    "data_df = pd.read_csv(\"Resources1\\cleaneddata.csv\")\n",
    "data_df.head(10)"
   ]
  },
  {
   "cell_type": "code",
   "execution_count": 27,
   "id": "dfc805c6",
   "metadata": {},
   "outputs": [],
   "source": [
    "# Import dependencies.\n",
    "import matplotlib.pyplot as plt"
   ]
  },
  {
   "cell_type": "code",
   "execution_count": 28,
   "id": "c53d2a73",
   "metadata": {},
   "outputs": [],
   "source": [
    "#data_df.plot(x=\"Month\", y=\"Quantity\",kind=\"bar\")\n",
    "#plt.show()"
   ]
  },
  {
   "cell_type": "code",
   "execution_count": 29,
   "id": "392f8efb",
   "metadata": {},
   "outputs": [
    {
     "name": "stdout",
     "output_type": "stream",
     "text": [
      "Requirement already satisfied: numpy in c:\\python311\\lib\\site-packages (1.25.0)\n",
      "Note: you may need to restart the kernel to use updated packages.\n"
     ]
    }
   ],
   "source": [
    "pip install numpy \n"
   ]
  },
  {
   "cell_type": "code",
   "execution_count": 30,
   "id": "34ca770c",
   "metadata": {},
   "outputs": [],
   "source": [
    "# Import dependencies.\n",
    "%matplotlib inline\n",
    "\n",
    "import matplotlib\n",
    "import numpy as np\n",
    "import matplotlib.pyplot as plt"
   ]
  },
  {
   "cell_type": "code",
   "execution_count": null,
   "id": "0e9899dd",
   "metadata": {},
   "outputs": [],
   "source": [
    "data_df.plot(x=\"Month\",y=[\"Total_price\",\"Quantity\"],kind=\"bar\")\n",
    "plt.show()"
   ]
  },
  {
   "cell_type": "code",
   "execution_count": null,
   "id": "d7e02b2d",
   "metadata": {},
   "outputs": [],
   "source": []
  }
 ],
 "metadata": {
  "kernelspec": {
   "display_name": "Python 3 (ipykernel)",
   "language": "python",
   "name": "python3"
  },
  "language_info": {
   "codemirror_mode": {
    "name": "ipython",
    "version": 3
   },
   "file_extension": ".py",
   "mimetype": "text/x-python",
   "name": "python",
   "nbconvert_exporter": "python",
   "pygments_lexer": "ipython3",
   "version": "3.11.4"
  }
 },
 "nbformat": 4,
 "nbformat_minor": 5
}
